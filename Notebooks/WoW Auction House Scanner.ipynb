{
 "cells": [
  {
   "cell_type": "code",
   "execution_count": 1,
   "metadata": {
    "collapsed": true,
    "pycharm": {
     "name": "#%%\n"
    }
   },
   "outputs": [],
   "source": [
    "import requests                     # To access API\n",
    "from datetime import datetime\n",
    "import pandas as pd"
   ]
  },
  {
   "cell_type": "markdown",
   "source": [
    "# Access WoW Auction House"
   ],
   "metadata": {
    "collapsed": false,
    "pycharm": {
     "name": "#%% md\n"
    }
   }
  },
  {
   "cell_type": "code",
   "execution_count": 2,
   "outputs": [],
   "source": [
    "# Create new access token to access API\n",
    "def create_access_token(client_id, client_secret, region):\n",
    "    data = {'grant_type':'client_credentials'}\n",
    "    response = requests.post('https://%s.battle.net/oauth/token' % region,\n",
    "                             data=data, auth=(client_id, client_secret))\n",
    "    return response.json()"
   ],
   "metadata": {
    "collapsed": false,
    "pycharm": {
     "name": "#%%\n"
    }
   }
  },
  {
   "cell_type": "code",
   "execution_count": 3,
   "outputs": [],
   "source": [
    "response = create_access_token('d16d7625352246078cfd3dbee36cac5e',\n",
    "                               'mwNN2siP8otMNUCQz7KUaEFDNxxLdlN2',\n",
    "                               'us')\n",
    "token = response['access_token']"
   ],
   "metadata": {
    "collapsed": false,
    "pycharm": {
     "name": "#%%\n"
    }
   }
  },
  {
   "cell_type": "code",
   "execution_count": 4,
   "outputs": [],
   "source": [
    "def get_illidan(token):\n",
    "    search = 'https://us.api.blizzard' \\\n",
    "             '.com/data/wow/connected-realm/57/' \\\n",
    "             'auctions?namespace=dynamic-us&locale=en_GB&access_token=' + token\n",
    "    response = requests.get(search)\n",
    "    return response.json()['auctions']\n",
    "illidan_auctions = get_illidan(token)"
   ],
   "metadata": {
    "collapsed": false,
    "pycharm": {
     "name": "#%%\n"
    }
   }
  },
  {
   "cell_type": "markdown",
   "source": [
    "# Clean Data"
   ],
   "metadata": {
    "collapsed": false,
    "pycharm": {
     "name": "#%% md\n"
    }
   }
  },
  {
   "cell_type": "code",
   "execution_count": 5,
   "outputs": [],
   "source": [
    "df_auction = pd.DataFrame(illidan_auctions)"
   ],
   "metadata": {
    "collapsed": false,
    "pycharm": {
     "name": "#%%\n"
    }
   }
  },
  {
   "cell_type": "code",
   "execution_count": 6,
   "outputs": [],
   "source": [
    "# Expand the item column\n",
    "df_auction = df_auction.rename(columns={'id': 'auction_id'})\n",
    "# Drop 'bonus_list' and 'modifiers'\n",
    "df_auction = pd.concat([df_auction.drop(['item'], axis=1),\n",
    "                        df_auction['item'].apply(pd.Series)], axis=1)"
   ],
   "metadata": {
    "collapsed": false,
    "pycharm": {
     "name": "#%%\n"
    }
   }
  },
  {
   "cell_type": "code",
   "execution_count": null,
   "outputs": [],
   "source": [
    "# These are subgroups of an equipable item with the bonus stats (intellect agility, strength, etc)\n",
    "# df_auction['Year'] = datetime.now().strftime('%Y')\n",
    "# df_auction['Month'] = datetime.now().strftime('%m')\n",
    "# df_auction['Day'] = datetime.now().strftime('%d')\n",
    "# df_auction['Hour'] = datetime.now().strftime('%H')\n",
    "# df_auction['Date'] = datetime.now().strftime('%m/%d/%Y')\n",
    "# df_auction['Time'] = datetime.now().strftime('%H:%M:%S')"
   ],
   "metadata": {
    "collapsed": false,
    "pycharm": {
     "name": "#%%\n"
    }
   }
  },
  {
   "cell_type": "code",
   "execution_count": 77,
   "outputs": [],
   "source": [
    "# filename = datetime.now().strftime('Illidan_US-%Y-%m-%d-%H-%M.csv')\n",
    "# df_auction.to_csv(filename, index=False)"
   ],
   "metadata": {
    "collapsed": false,
    "pycharm": {
     "name": "#%%\n"
    }
   }
  },
  {
   "cell_type": "markdown",
   "source": [
    "# Access Item Database"
   ],
   "metadata": {
    "collapsed": false,
    "pycharm": {
     "name": "#%% md\n"
    }
   }
  },
  {
   "cell_type": "code",
   "execution_count": 159,
   "outputs": [],
   "source": [
    "def get_illidan_item(token):\n",
    "    search = 'https://us.api.blizzard' \\\n",
    "             '.com/data/wow/search/item?namespace=static-us&orderby=id' \\\n",
    "             '&_pageSize=1000&id=[1,]&_page=1&access_token=' + token\n",
    "    response = requests.get(search)\n",
    "    return response.json()['results']\n",
    "\n",
    "item_ids = get_illidan_item(token)\n",
    "# Create dataframe\n",
    "df_items = pd.DataFrame(item_ids)"
   ],
   "metadata": {
    "collapsed": false,
    "pycharm": {
     "name": "#%%\n"
    }
   }
  },
  {
   "cell_type": "code",
   "execution_count": 178,
   "outputs": [
    {
     "data": {
      "text/plain": "2428"
     },
     "execution_count": 178,
     "metadata": {},
     "output_type": "execute_result"
    }
   ],
   "source": [
    "int(str(df_items['key'][999]).split('?')[0].split('item/')[1])"
   ],
   "metadata": {
    "collapsed": false,
    "pycharm": {
     "name": "#%%\n"
    }
   }
  },
  {
   "cell_type": "code",
   "execution_count": 158,
   "outputs": [
    {
     "ename": "KeyboardInterrupt",
     "evalue": "",
     "output_type": "error",
     "traceback": [
      "\u001B[0;31m---------------------------------------------------------------------------\u001B[0m",
      "\u001B[0;31mKeyboardInterrupt\u001B[0m                         Traceback (most recent call last)",
      "Input \u001B[0;32mIn [158]\u001B[0m, in \u001B[0;36m<cell line: 4>\u001B[0;34m()\u001B[0m\n\u001B[1;32m      1\u001B[0m x \u001B[38;5;241m=\u001B[39m \u001B[38;5;241m0\u001B[39m\n\u001B[1;32m      2\u001B[0m i \u001B[38;5;241m=\u001B[39m \u001B[38;5;241m1\u001B[39m\n\u001B[0;32m----> 4\u001B[0m \u001B[38;5;28;01mwhile\u001B[39;00m i \u001B[38;5;241m<\u001B[39m \u001B[38;5;241m2\u001B[39m:\n\u001B[1;32m      5\u001B[0m     \u001B[38;5;28;01mdef\u001B[39;00m \u001B[38;5;21mget_illidan_item\u001B[39m(token):\n\u001B[1;32m      6\u001B[0m         search \u001B[38;5;241m=\u001B[39m \u001B[38;5;124m'\u001B[39m\u001B[38;5;124mhttps://us.api.blizzard\u001B[39m\u001B[38;5;124m'\u001B[39m \\\n\u001B[1;32m      7\u001B[0m                  \u001B[38;5;124m'\u001B[39m\u001B[38;5;124m.com/data/wow/search/item?namespace=static-us&orderby=id\u001B[39m\u001B[38;5;124m'\u001B[39m \\\n\u001B[1;32m      8\u001B[0m                  \u001B[38;5;124m'\u001B[39m\u001B[38;5;124m&_pageSize=1000&id=[\u001B[39m\u001B[38;5;124m'\u001B[39m \u001B[38;5;241m+\u001B[39m XXX \u001B[38;5;241m+\u001B[39m \u001B[38;5;124m'\u001B[39m\u001B[38;5;124m,]&_page=1&access_token=\u001B[39m\u001B[38;5;124m'\u001B[39m \u001B[38;5;241m+\u001B[39m \\\n\u001B[1;32m      9\u001B[0m                  token\n",
      "\u001B[0;31mKeyboardInterrupt\u001B[0m: "
     ]
    }
   ],
   "source": [
    "x = 0\n",
    "i = 1\n",
    "\n",
    "while i < 2:\n",
    "    def get_illidan_item(token):\n",
    "        search = 'https://us.api.blizzard' \\\n",
    "                 '.com/data/wow/search/item?namespace=static-us&orderby=id' \\\n",
    "                 '&_pageSize=1000&id=[' + XXX + ',]&_page=1&access_token=' + \\\n",
    "                 token\n",
    "        response = requests.get(search)\n",
    "        return response.json()['results']\n",
    "\n",
    "item_ids = get_illidan_item(token)\n",
    "# Create dataframe\n",
    "df_items = pd.DataFrame(item_ids)"
   ],
   "metadata": {
    "collapsed": false,
    "pycharm": {
     "name": "#%%\n"
    }
   }
  },
  {
   "cell_type": "code",
   "execution_count": 155,
   "outputs": [],
   "source": [
    "# Expand data dictionary\n",
    "df_items = pd.concat([df_items.drop(['data'], axis=1),\n",
    "                      df_items['data'].apply(pd.Series)], axis=1)\n",
    "# Expand dictionaries\n",
    "df_items = pd.concat([df_items.drop(['item_subclass'], axis=1),\n",
    "                      df_items['item_subclass'].apply(pd.Series)\n",
    "                     .rename(columns={'name':'item_subclass'})], axis=1)\n",
    "df_items = pd.concat([df_items.drop(['item_class'], axis=1),\n",
    "                      df_items['item_class'].apply(pd.Series)\n",
    "                     .rename(columns={'name':'item_class'})], axis=1)\n",
    "df_items = pd.concat([df_items.drop(['quality'], axis=1),\n",
    "                      df_items['quality'].apply(pd.Series)\n",
    "                     .rename(columns={'name':'quality'})], axis=1)\n",
    "df_items = pd.concat([df_items.drop(['inventory_type'], axis=1),\n",
    "                      df_items['inventory_type'].apply(pd.Series)\n",
    "                     .rename(columns={'name':'inventory_type'})], axis=1)"
   ],
   "metadata": {
    "collapsed": false,
    "pycharm": {
     "name": "#%%\n"
    }
   }
  },
  {
   "cell_type": "code",
   "execution_count": 156,
   "outputs": [],
   "source": [
    "# Choose the US value from the dictionary\n",
    "df_items['item_id'] = df_items['media']\\\n",
    "    .apply(lambda x: x.get('id'))\n",
    "df_items['name'] = df_items['name']\\\n",
    "    .apply(lambda x: x.get('en_US'))\n",
    "df_items['item_subclass'] = df_items['item_subclass']\\\n",
    "    .apply(lambda x: x.get('en_US'))\n",
    "df_items['item_class'] = df_items['item_class']\\\n",
    "    .apply(lambda x: x.get('en_US'))\n",
    "df_items['quality'] = df_items['quality']\\\n",
    "    .apply(lambda x: x.get('en_US'))\n",
    "df_items['inventory_type'] = df_items['inventory_type']\\\n",
    "    .apply(lambda x: x.get('en_US'))"
   ],
   "metadata": {
    "collapsed": false,
    "pycharm": {
     "name": "#%%\n"
    }
   }
  },
  {
   "cell_type": "code",
   "execution_count": 157,
   "outputs": [
    {
     "data": {
      "text/plain": "                                                   key  level  required_level  \\\n0    {'href': 'https://us.api.blizzard.com/data/wow...      1               1   \n1    {'href': 'https://us.api.blizzard.com/data/wow...      1               1   \n2    {'href': 'https://us.api.blizzard.com/data/wow...      1               1   \n3    {'href': 'https://us.api.blizzard.com/data/wow...      1               1   \n4    {'href': 'https://us.api.blizzard.com/data/wow...      1               0   \n..                                                 ...    ...             ...   \n995  {'href': 'https://us.api.blizzard.com/data/wow...     26              20   \n996  {'href': 'https://us.api.blizzard.com/data/wow...     26              20   \n997  {'href': 'https://us.api.blizzard.com/data/wow...     26              20   \n998  {'href': 'https://us.api.blizzard.com/data/wow...     26              20   \n999  {'href': 'https://us.api.blizzard.com/data/wow...     26              20   \n\n     sell_price  is_equippable  purchase_quantity         media  max_count  \\\n0             3           True                  1    {'id': 25}          0   \n1             4           True                  1    {'id': 35}          0   \n2             3           True                  1    {'id': 36}          0   \n3             3           True                  1    {'id': 37}          0   \n4             1           True                  1    {'id': 38}          0   \n..          ...            ...                ...           ...        ...   \n995      118795           True                  1  {'id': 2424}          0   \n996      237098           True                  1  {'id': 2425}          0   \n997      178126           True                  1  {'id': 2426}          0   \n998      111519           True                  1  {'id': 2427}          0   \n999      111938           True                  1  {'id': 2428}          0   \n\n     is_stackable                 name  ...    id  item_subclass  id  \\\n0           False      Worn Shortsword  ...    25          Sword   7   \n1           False           Bent Staff  ...    35          Staff  10   \n2           False            Worn Mace  ...    36           Mace   4   \n3           False             Worn Axe  ...    37            Axe   0   \n4           False      Recruit's Shirt  ...    38  Miscellaneous   0   \n..            ...                  ...  ...   ...            ...  ..   \n995         False      Brigandine Belt  ...  2424           Mail   3   \n996         False  Brigandine Leggings  ...  2425           Mail   3   \n997         False     Brigandine Boots  ...  2426           Mail   3   \n998         False   Brigandine Bracers  ...  2427           Mail   3   \n999         False    Brigandine Gloves  ...  2428           Mail   3   \n\n     item_class id   quality      type inventory_type            type item_id  \n0        Weapon  2    Common    COMMON      Main Hand  WEAPONMAINHAND      25  \n1        Weapon  2    Common    COMMON       Two-Hand      TWOHWEAPON      35  \n2        Weapon  2    Common    COMMON      Main Hand  WEAPONMAINHAND      36  \n3        Weapon  2    Common    COMMON      Main Hand  WEAPONMAINHAND      37  \n4         Armor  4  Uncommon  UNCOMMON          Shirt            BODY      38  \n..          ... ..       ...       ...            ...             ...     ...  \n995       Armor  4    Common    COMMON          Waist           WAIST    2424  \n996       Armor  4    Common    COMMON           Legs            LEGS    2425  \n997       Armor  4    Common    COMMON           Feet            FEET    2426  \n998       Armor  4    Common    COMMON          Wrist           WRIST    2427  \n999       Armor  4    Common    COMMON          Hands            HAND    2428  \n\n[1000 rows x 21 columns]",
      "text/html": "<div>\n<style scoped>\n    .dataframe tbody tr th:only-of-type {\n        vertical-align: middle;\n    }\n\n    .dataframe tbody tr th {\n        vertical-align: top;\n    }\n\n    .dataframe thead th {\n        text-align: right;\n    }\n</style>\n<table border=\"1\" class=\"dataframe\">\n  <thead>\n    <tr style=\"text-align: right;\">\n      <th></th>\n      <th>key</th>\n      <th>level</th>\n      <th>required_level</th>\n      <th>sell_price</th>\n      <th>is_equippable</th>\n      <th>purchase_quantity</th>\n      <th>media</th>\n      <th>max_count</th>\n      <th>is_stackable</th>\n      <th>name</th>\n      <th>...</th>\n      <th>id</th>\n      <th>item_subclass</th>\n      <th>id</th>\n      <th>item_class</th>\n      <th>id</th>\n      <th>quality</th>\n      <th>type</th>\n      <th>inventory_type</th>\n      <th>type</th>\n      <th>item_id</th>\n    </tr>\n  </thead>\n  <tbody>\n    <tr>\n      <th>0</th>\n      <td>{'href': 'https://us.api.blizzard.com/data/wow...</td>\n      <td>1</td>\n      <td>1</td>\n      <td>3</td>\n      <td>True</td>\n      <td>1</td>\n      <td>{'id': 25}</td>\n      <td>0</td>\n      <td>False</td>\n      <td>Worn Shortsword</td>\n      <td>...</td>\n      <td>25</td>\n      <td>Sword</td>\n      <td>7</td>\n      <td>Weapon</td>\n      <td>2</td>\n      <td>Common</td>\n      <td>COMMON</td>\n      <td>Main Hand</td>\n      <td>WEAPONMAINHAND</td>\n      <td>25</td>\n    </tr>\n    <tr>\n      <th>1</th>\n      <td>{'href': 'https://us.api.blizzard.com/data/wow...</td>\n      <td>1</td>\n      <td>1</td>\n      <td>4</td>\n      <td>True</td>\n      <td>1</td>\n      <td>{'id': 35}</td>\n      <td>0</td>\n      <td>False</td>\n      <td>Bent Staff</td>\n      <td>...</td>\n      <td>35</td>\n      <td>Staff</td>\n      <td>10</td>\n      <td>Weapon</td>\n      <td>2</td>\n      <td>Common</td>\n      <td>COMMON</td>\n      <td>Two-Hand</td>\n      <td>TWOHWEAPON</td>\n      <td>35</td>\n    </tr>\n    <tr>\n      <th>2</th>\n      <td>{'href': 'https://us.api.blizzard.com/data/wow...</td>\n      <td>1</td>\n      <td>1</td>\n      <td>3</td>\n      <td>True</td>\n      <td>1</td>\n      <td>{'id': 36}</td>\n      <td>0</td>\n      <td>False</td>\n      <td>Worn Mace</td>\n      <td>...</td>\n      <td>36</td>\n      <td>Mace</td>\n      <td>4</td>\n      <td>Weapon</td>\n      <td>2</td>\n      <td>Common</td>\n      <td>COMMON</td>\n      <td>Main Hand</td>\n      <td>WEAPONMAINHAND</td>\n      <td>36</td>\n    </tr>\n    <tr>\n      <th>3</th>\n      <td>{'href': 'https://us.api.blizzard.com/data/wow...</td>\n      <td>1</td>\n      <td>1</td>\n      <td>3</td>\n      <td>True</td>\n      <td>1</td>\n      <td>{'id': 37}</td>\n      <td>0</td>\n      <td>False</td>\n      <td>Worn Axe</td>\n      <td>...</td>\n      <td>37</td>\n      <td>Axe</td>\n      <td>0</td>\n      <td>Weapon</td>\n      <td>2</td>\n      <td>Common</td>\n      <td>COMMON</td>\n      <td>Main Hand</td>\n      <td>WEAPONMAINHAND</td>\n      <td>37</td>\n    </tr>\n    <tr>\n      <th>4</th>\n      <td>{'href': 'https://us.api.blizzard.com/data/wow...</td>\n      <td>1</td>\n      <td>0</td>\n      <td>1</td>\n      <td>True</td>\n      <td>1</td>\n      <td>{'id': 38}</td>\n      <td>0</td>\n      <td>False</td>\n      <td>Recruit's Shirt</td>\n      <td>...</td>\n      <td>38</td>\n      <td>Miscellaneous</td>\n      <td>0</td>\n      <td>Armor</td>\n      <td>4</td>\n      <td>Uncommon</td>\n      <td>UNCOMMON</td>\n      <td>Shirt</td>\n      <td>BODY</td>\n      <td>38</td>\n    </tr>\n    <tr>\n      <th>...</th>\n      <td>...</td>\n      <td>...</td>\n      <td>...</td>\n      <td>...</td>\n      <td>...</td>\n      <td>...</td>\n      <td>...</td>\n      <td>...</td>\n      <td>...</td>\n      <td>...</td>\n      <td>...</td>\n      <td>...</td>\n      <td>...</td>\n      <td>...</td>\n      <td>...</td>\n      <td>...</td>\n      <td>...</td>\n      <td>...</td>\n      <td>...</td>\n      <td>...</td>\n      <td>...</td>\n    </tr>\n    <tr>\n      <th>995</th>\n      <td>{'href': 'https://us.api.blizzard.com/data/wow...</td>\n      <td>26</td>\n      <td>20</td>\n      <td>118795</td>\n      <td>True</td>\n      <td>1</td>\n      <td>{'id': 2424}</td>\n      <td>0</td>\n      <td>False</td>\n      <td>Brigandine Belt</td>\n      <td>...</td>\n      <td>2424</td>\n      <td>Mail</td>\n      <td>3</td>\n      <td>Armor</td>\n      <td>4</td>\n      <td>Common</td>\n      <td>COMMON</td>\n      <td>Waist</td>\n      <td>WAIST</td>\n      <td>2424</td>\n    </tr>\n    <tr>\n      <th>996</th>\n      <td>{'href': 'https://us.api.blizzard.com/data/wow...</td>\n      <td>26</td>\n      <td>20</td>\n      <td>237098</td>\n      <td>True</td>\n      <td>1</td>\n      <td>{'id': 2425}</td>\n      <td>0</td>\n      <td>False</td>\n      <td>Brigandine Leggings</td>\n      <td>...</td>\n      <td>2425</td>\n      <td>Mail</td>\n      <td>3</td>\n      <td>Armor</td>\n      <td>4</td>\n      <td>Common</td>\n      <td>COMMON</td>\n      <td>Legs</td>\n      <td>LEGS</td>\n      <td>2425</td>\n    </tr>\n    <tr>\n      <th>997</th>\n      <td>{'href': 'https://us.api.blizzard.com/data/wow...</td>\n      <td>26</td>\n      <td>20</td>\n      <td>178126</td>\n      <td>True</td>\n      <td>1</td>\n      <td>{'id': 2426}</td>\n      <td>0</td>\n      <td>False</td>\n      <td>Brigandine Boots</td>\n      <td>...</td>\n      <td>2426</td>\n      <td>Mail</td>\n      <td>3</td>\n      <td>Armor</td>\n      <td>4</td>\n      <td>Common</td>\n      <td>COMMON</td>\n      <td>Feet</td>\n      <td>FEET</td>\n      <td>2426</td>\n    </tr>\n    <tr>\n      <th>998</th>\n      <td>{'href': 'https://us.api.blizzard.com/data/wow...</td>\n      <td>26</td>\n      <td>20</td>\n      <td>111519</td>\n      <td>True</td>\n      <td>1</td>\n      <td>{'id': 2427}</td>\n      <td>0</td>\n      <td>False</td>\n      <td>Brigandine Bracers</td>\n      <td>...</td>\n      <td>2427</td>\n      <td>Mail</td>\n      <td>3</td>\n      <td>Armor</td>\n      <td>4</td>\n      <td>Common</td>\n      <td>COMMON</td>\n      <td>Wrist</td>\n      <td>WRIST</td>\n      <td>2427</td>\n    </tr>\n    <tr>\n      <th>999</th>\n      <td>{'href': 'https://us.api.blizzard.com/data/wow...</td>\n      <td>26</td>\n      <td>20</td>\n      <td>111938</td>\n      <td>True</td>\n      <td>1</td>\n      <td>{'id': 2428}</td>\n      <td>0</td>\n      <td>False</td>\n      <td>Brigandine Gloves</td>\n      <td>...</td>\n      <td>2428</td>\n      <td>Mail</td>\n      <td>3</td>\n      <td>Armor</td>\n      <td>4</td>\n      <td>Common</td>\n      <td>COMMON</td>\n      <td>Hands</td>\n      <td>HAND</td>\n      <td>2428</td>\n    </tr>\n  </tbody>\n</table>\n<p>1000 rows × 21 columns</p>\n</div>"
     },
     "execution_count": 157,
     "metadata": {},
     "output_type": "execute_result"
    }
   ],
   "source": [
    "df_items"
   ],
   "metadata": {
    "collapsed": false,
    "pycharm": {
     "name": "#%%\n"
    }
   }
  },
  {
   "cell_type": "code",
   "execution_count": null,
   "outputs": [],
   "source": [
    "df_items.iloc[999]['data']"
   ],
   "metadata": {
    "collapsed": false,
    "pycharm": {
     "name": "#%%\n"
    }
   }
  }
 ],
 "metadata": {
  "kernelspec": {
   "display_name": "Python 3",
   "language": "python",
   "name": "python3"
  },
  "language_info": {
   "codemirror_mode": {
    "name": "ipython",
    "version": 2
   },
   "file_extension": ".py",
   "mimetype": "text/x-python",
   "name": "python",
   "nbconvert_exporter": "python",
   "pygments_lexer": "ipython2",
   "version": "2.7.6"
  }
 },
 "nbformat": 4,
 "nbformat_minor": 0
}